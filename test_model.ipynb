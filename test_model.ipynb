{
 "cells": [
  {
   "cell_type": "code",
   "execution_count": 15,
   "metadata": {
    "collapsed": true
   },
   "outputs": [
    {
     "name": "stdout",
     "output_type": "stream",
     "text": [
      "The tensorboard extension is already loaded. To reload it, use:\n",
      "  %reload_ext tensorboard\n"
     ]
    }
   ],
   "source": [
    "import os.path\n",
    "import datetime as dt   # module for working with dates\n",
    "\n",
    "# load some useful extensions\n",
    "%matplotlib inline\n",
    "%load_ext tensorboard\n",
    "\n",
    "# PARAMETERS\n",
    "\n",
    "START = dt.datetime.fromisocalendar(2005, 1, 1).date()  # has to be the 1st of January of some year\n",
    "END = dt.datetime.fromisocalendar(2021, 1, 1).date()\n",
    "\n",
    "# FILES\n",
    "path_to_best_encoder = os.path.join(\"models\", \"autoencoder-lstm\", \"val_acc-optimized\")\n",
    "path_to_best_rnn = os.path.join(\"models\", \"autoencoder-lstm\", \"val_acc-optimized_rnn\")\n",
    "path_to_best_att = os.path.join(\"models\", \"autoencoder-lstm\", \"val_acc-optimized_att\")\n",
    "\n",
    "# period model shall predict into future\n",
    "FUTURE_PERIOD_PREDICT = 14\n",
    "\n",
    "# input and target columns for the model\n",
    "input_columns_autoenc = ['open', 'high', 'low', 'close', 'volume', 'trend_cci', 'momentum_stoch',\n",
    "                         'trend_ema20',\n",
    "                         'adjclose', 'trend_sma_fast', 'trend_sma_slow',\n",
    "                         'trend_macd', 'volatility_bbh', 'volatility_bbm', 'volatility_bbl', 'momentum_rsi',\n",
    "                         'volume_cmf'\n",
    "                         ]\n",
    "target_columns = ['close']"
   ]
  },
  {
   "cell_type": "code",
   "execution_count": 16,
   "outputs": [
    {
     "name": "stdout",
     "output_type": "stream",
     "text": [
      "[>] requesting index information ...\n",
      "[*********************100%***********************]  1 of 1 completed\n"
     ]
    },
    {
     "name": "stderr",
     "output_type": "stream",
     "text": [
      "/Users/ben-jasperkettlitz/miniforge3/envs/tzeentch/lib/python3.9/site-packages/ta/trend.py:768: RuntimeWarning: invalid value encountered in double_scalars\n",
      "  dip[i] = 100 * (self._dip[i] / self._trs[i])\n",
      "/Users/ben-jasperkettlitz/miniforge3/envs/tzeentch/lib/python3.9/site-packages/ta/trend.py:772: RuntimeWarning: invalid value encountered in double_scalars\n",
      "  din[i] = 100 * (self._din[i] / self._trs[i])\n"
     ]
    },
    {
     "name": "stdout",
     "output_type": "stream",
     "text": [
      "[*********************100%***********************]  1 of 1 completed\n",
      "[<] fetched index information ...\n",
      "\n"
     ]
    }
   ],
   "source": [
    "from typing import cast\n",
    "\n",
    "import tzeentch.stockwrappers\n",
    "\n",
    "from tzeentch.stockwrappers import DataSource\n",
    "from tzeentch.stockwrappers import IndexInfo\n",
    "\n",
    "# reloads every module at restart of the notebook (technical stuff unimportant)\n",
    "import importlib\n",
    "\n",
    "importlib.reload(tzeentch.stockwrappers)\n",
    "\n",
    "# read index price data from imported data source in a given time frame also give the ticker included in StockInfo\n",
    "# another name for convenience\n",
    "info_SP500: IndexInfo = cast(IndexInfo, DataSource.retrieve_yfinance('^GSPC', start=START, end=END))"
   ],
   "metadata": {
    "collapsed": false,
    "pycharm": {
     "name": "#%%     Information Retrieval\n"
    }
   }
  },
  {
   "cell_type": "code",
   "execution_count": 17,
   "outputs": [
    {
     "name": "stderr",
     "output_type": "stream",
     "text": [
      "/Users/ben-jasperkettlitz/miniforge3/envs/tzeentch/lib/python3.9/site-packages/pandas/util/_decorators.py:311: SettingWithCopyWarning: \n",
      "A value is trying to be set on a copy of a slice from a DataFrame\n",
      "\n",
      "See the caveats in the documentation: https://pandas.pydata.org/pandas-docs/stable/user_guide/indexing.html#returning-a-view-versus-a-copy\n",
      "  return func(*args, **kwargs)\n"
     ]
    }
   ],
   "source": [
    "from tzeentch.preprocessing.noise_filters import extract_and_preapre_features\n",
    "\n",
    "input_df, input_df_only_renamed = extract_and_preapre_features(seq_len=FUTURE_PERIOD_PREDICT,\n",
    "                                                      stock_info=info_SP500,\n",
    "                                                      feature_colums=input_columns_autoenc,\n",
    "                                                      target_columns=target_columns)"
   ],
   "metadata": {
    "collapsed": false,
    "pycharm": {
     "name": "#%%     preprocessing - rename and classify\n"
    }
   }
  },
  {
   "cell_type": "code",
   "execution_count": 18,
   "outputs": [],
   "source": [
    "from tzeentch.preprocessing.noise_filters import apply_min_max_scaling\n",
    "\n",
    "panel_df_train, panel_df_test = apply_min_max_scaling(input_df, target_columns)\n",
    "panel_df_test_full = input_df_only_renamed[~input_df_only_renamed.index.isin(panel_df_train.index)]"
   ],
   "metadata": {
    "collapsed": false,
    "pycharm": {
     "name": "#%%     preprocessing - apply scaling\n"
    }
   }
  },
  {
   "cell_type": "code",
   "execution_count": 19,
   "outputs": [],
   "source": [
    "from tzeentch.transformer.sequence_transformers import sequence_generator\n",
    "\n",
    "train_X, train_Y = sequence_generator(panel_df_train, FUTURE_PERIOD_PREDICT, shuffle=True, seed=101)\n",
    "test_X, test_Y = sequence_generator(panel_df_test, FUTURE_PERIOD_PREDICT, shuffle=False)"
   ],
   "metadata": {
    "collapsed": false,
    "pycharm": {
     "name": "#%%     preprocessing - de-noise using wavelet transforms\n"
    }
   }
  },
  {
   "cell_type": "code",
   "execution_count": 20,
   "outputs": [
    {
     "name": "stdout",
     "output_type": "stream",
     "text": [
      "(14, 18)\n",
      "Model: \"model_5\"\n",
      "_________________________________________________________________\n",
      "Layer (type)                 Output Shape              Param #   \n",
      "=================================================================\n",
      "input_3 (InputLayer)         [(None, 14, 18)]          0         \n",
      "_________________________________________________________________\n",
      "dense_13 (Dense)             (None, 14, 30)            570       \n",
      "_________________________________________________________________\n",
      "dense_14 (Dense)             (None, 14, 30)            930       \n",
      "_________________________________________________________________\n",
      "dense_15 (Dense)             (None, 14, 20)            620       \n",
      "_________________________________________________________________\n",
      "dense_16 (Dense)             (None, 14, 30)            630       \n",
      "_________________________________________________________________\n",
      "dense_17 (Dense)             (None, 14, 40)            1240      \n",
      "_________________________________________________________________\n",
      "dense_18 (Dense)             (None, 14, 18)            738       \n",
      "=================================================================\n",
      "Total params: 4,728\n",
      "Trainable params: 4,728\n",
      "Non-trainable params: 0\n",
      "_________________________________________________________________\n"
     ]
    },
    {
     "name": "stderr",
     "output_type": "stream",
     "text": [
      "2021-08-29 16:17:36.193340: W tensorflow/core/util/tensor_slice_reader.cc:95] Could not open models/autoencoder-lstm/val_acc-optimized: Failed precondition: models/autoencoder-lstm/val_acc-optimized; Is a directory: perhaps your file is in a different file format and you need to use a different restore operator?\n",
      "2021-08-29 16:17:36.233337: I tensorflow/core/grappler/optimizers/custom_graph_optimizer_registry.cc:112] Plugin optimizer for device_type GPU is enabled.\n"
     ]
    }
   ],
   "source": [
    "from tzeentch.models.model_factories import make_autoencoder_model\n",
    "\n",
    "encoder, autoencoder = make_autoencoder_model(train_X.shape[1:], train_X.shape[2])\n",
    "\n",
    "encoder.load_weights(path_to_best_encoder)\n",
    "\n",
    "encoded_train_X = encoder.predict(train_X)\n",
    "encoded_test_X = encoder.predict(test_X)"
   ],
   "metadata": {
    "collapsed": false,
    "pycharm": {
     "name": "#%%     model - autoencoder\n"
    }
   }
  },
  {
   "cell_type": "code",
   "execution_count": 21,
   "outputs": [
    {
     "name": "stdout",
     "output_type": "stream",
     "text": [
      "Model: \"model_7\"\n",
      "__________________________________________________________________________________________________\n",
      "Layer (type)                    Output Shape         Param #     Connected to                     \n",
      "==================================================================================================\n",
      "Input (InputLayer)              [(None, 14, 20)]     0                                            \n",
      "__________________________________________________________________________________________________\n",
      "Multi-Head (MultiHeadAttention) (None, 14, 20)       684         Input[0][0]                      \n",
      "                                                                 Input[0][0]                      \n",
      "__________________________________________________________________________________________________\n",
      "lstm_1 (LSTM)                   (None, 14, 256)      283648      Multi-Head[0][0]                 \n",
      "__________________________________________________________________________________________________\n",
      "dropout_1 (Dropout)             (None, 14, 256)      0           lstm_1[0][0]                     \n",
      "__________________________________________________________________________________________________\n",
      "flatten_1 (Flatten)             (None, 3584)         0           dropout_1[0][0]                  \n",
      "__________________________________________________________________________________________________\n",
      "dense_19 (Dense)                (None, 3)            10755       flatten_1[0][0]                  \n",
      "==================================================================================================\n",
      "Total params: 295,087\n",
      "Trainable params: 295,087\n",
      "Non-trainable params: 0\n",
      "__________________________________________________________________________________________________\n"
     ]
    },
    {
     "name": "stderr",
     "output_type": "stream",
     "text": [
      "2021-08-29 16:17:37.068239: W tensorflow/core/util/tensor_slice_reader.cc:95] Could not open models/autoencoder-lstm/val_acc-optimized_att: Failed precondition: models/autoencoder-lstm/val_acc-optimized_att; Is a directory: perhaps your file is in a different file format and you need to use a different restore operator?\n"
     ]
    },
    {
     "data": {
      "text/plain": "<tensorflow.python.training.tracking.util.CheckpointLoadStatus at 0x17825f730>"
     },
     "execution_count": 21,
     "metadata": {},
     "output_type": "execute_result"
    }
   ],
   "source": [
    "from tzeentch.models.model_factories import make_attention_model\n",
    "\n",
    "attention_model = make_attention_model(encoded_train_X.shape[1:], 3)\n",
    "attention_model.load_weights(path_to_best_att)"
   ],
   "metadata": {
    "collapsed": false,
    "pycharm": {
     "name": "#%%     model - attention-based LSTM\n"
    }
   }
  },
  {
   "cell_type": "code",
   "execution_count": 22,
   "outputs": [
    {
     "name": "stderr",
     "output_type": "stream",
     "text": [
      "2021-08-29 16:17:37.186599: I tensorflow/core/grappler/optimizers/custom_graph_optimizer_registry.cc:112] Plugin optimizer for device_type GPU is enabled.\n",
      "2021-08-29 16:17:37.234892: I tensorflow/core/grappler/optimizers/custom_graph_optimizer_registry.cc:112] Plugin optimizer for device_type GPU is enabled.\n",
      "/Users/ben-jasperkettlitz/PycharmProjects/tzeentch/tzeentch/simulation/simulators.py:24: SettingWithCopyWarning: \n",
      "A value is trying to be set on a copy of a slice from a DataFrame.\n",
      "Try using .loc[row_indexer,col_indexer] = value instead\n",
      "\n",
      "See the caveats in the documentation: https://pandas.pydata.org/pandas-docs/stable/user_guide/indexing.html#returning-a-view-versus-a-copy\n",
      "  df_historical_data[close_col + '_target_return'] = df_historical_data[close_col + '_target'].pct_change()\n"
     ]
    }
   ],
   "source": [
    "import importlib\n",
    "import tzeentch.simulation.simulators\n",
    "\n",
    "importlib.reload(tzeentch.simulation.simulators)\n",
    "\n",
    "from tzeentch.simulation.simulators import simulate_vshold\n",
    "\n",
    "predictions = attention_model.predict(encoded_test_X)\n",
    "\n",
    "sim_model, sim_benchmark, sim_decisions, sim_best = simulate_vshold(\n",
    "        seq_len=FUTURE_PERIOD_PREDICT,\n",
    "        close_col='close',\n",
    "        predictions=predictions,\n",
    "        df_historical_data=panel_df_test_full)"
   ],
   "metadata": {
    "collapsed": false,
    "pycharm": {
     "name": "#%%     simulation - strategy simulation\n"
    }
   }
  },
  {
   "cell_type": "code",
   "execution_count": 23,
   "outputs": [
    {
     "data": {
      "text/plain": "<Figure size 432x288 with 1 Axes>",
      "image/png": "[encoded data removed]"
     },
     "metadata": {},
     "output_type": "display_data"
    }
   ],
   "source": [
    "import matplotlib.pyplot as plt # usual module for plotting things\n",
    "import seaborn as sns\n",
    "\n",
    "sns.set_theme()\n",
    "\n",
    "plt.title(target_columns[0])\n",
    "plt.plot(sim_model, label='prediction return')\n",
    "plt.plot(sim_benchmark, label='benchmark return')\n",
    "plt.xticks(rotation=30)\n",
    "plt.legend()\n",
    "plt.show()"
   ],
   "metadata": {
    "collapsed": false,
    "pycharm": {
     "name": "#%%     display - plot prediction vs benchmark strategy\n"
    }
   }
  }
 ],
 "metadata": {
  "kernelspec": {
   "display_name": "Python 3",
   "language": "python",
   "name": "python3"
  },
  "language_info": {
   "codemirror_mode": {
    "name": "ipython",
    "version": 2
   },
   "file_extension": ".py",
   "mimetype": "text/x-python",
   "name": "python",
   "nbconvert_exporter": "python",
   "pygments_lexer": "ipython2",
   "version": "2.7.6"
  }
 },
 "nbformat": 4,
 "nbformat_minor": 0
}